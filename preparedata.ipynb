{
 "cells": [
  {
   "cell_type": "markdown",
   "metadata": {},
   "source": [
    "importing libraries"
   ]
  },
  {
   "cell_type": "code",
   "execution_count": 54,
   "metadata": {},
   "outputs": [
    {
     "name": "stdout",
     "output_type": "stream",
     "text": [
      "WARNING:tensorflow:From c:\\Users\\zafer\\Desktop\\Proje\\venv\\Lib\\site-packages\\keras\\src\\losses.py:2976: The name tf.losses.sparse_softmax_cross_entropy is deprecated. Please use tf.compat.v1.losses.sparse_softmax_cross_entropy instead.\n",
      "\n"
     ]
    }
   ],
   "source": [
    "import pandas as pd\n",
    "import math\n",
    "from sklearn.model_selection import train_test_split\n",
    "\n",
    "import tensorflow as tf"
   ]
  },
  {
   "cell_type": "code",
   "execution_count": 31,
   "metadata": {},
   "outputs": [],
   "source": [
    "data1 = pd.read_csv(\"idle-csv/idle.csv\")\n",
    "data2 = pd.read_csv(\"shot-csv/shot.csv\")"
   ]
  },
  {
   "cell_type": "code",
   "execution_count": 32,
   "metadata": {},
   "outputs": [
    {
     "data": {
      "text/html": [
       "<div>\n",
       "<style scoped>\n",
       "    .dataframe tbody tr th:only-of-type {\n",
       "        vertical-align: middle;\n",
       "    }\n",
       "\n",
       "    .dataframe tbody tr th {\n",
       "        vertical-align: top;\n",
       "    }\n",
       "\n",
       "    .dataframe thead th {\n",
       "        text-align: right;\n",
       "    }\n",
       "</style>\n",
       "<table border=\"1\" class=\"dataframe\">\n",
       "  <thead>\n",
       "    <tr style=\"text-align: right;\">\n",
       "      <th></th>\n",
       "      <th>Action Type</th>\n",
       "      <th>left_elbow_angle</th>\n",
       "      <th>right_elbow_angle</th>\n",
       "      <th>left_shoulder_angle</th>\n",
       "      <th>right_shoulder_angle</th>\n",
       "      <th>left_knee_angle</th>\n",
       "      <th>right_knee_angle</th>\n",
       "    </tr>\n",
       "  </thead>\n",
       "  <tbody>\n",
       "    <tr>\n",
       "      <th>0</th>\n",
       "      <td>idle</td>\n",
       "      <td>172</td>\n",
       "      <td>153</td>\n",
       "      <td>356</td>\n",
       "      <td>23</td>\n",
       "      <td>186</td>\n",
       "      <td>206</td>\n",
       "    </tr>\n",
       "    <tr>\n",
       "      <th>1</th>\n",
       "      <td>idle</td>\n",
       "      <td>124</td>\n",
       "      <td>131</td>\n",
       "      <td>8</td>\n",
       "      <td>345</td>\n",
       "      <td>199</td>\n",
       "      <td>220</td>\n",
       "    </tr>\n",
       "    <tr>\n",
       "      <th>2</th>\n",
       "      <td>idle</td>\n",
       "      <td>113</td>\n",
       "      <td>257</td>\n",
       "      <td>0</td>\n",
       "      <td>331</td>\n",
       "      <td>169</td>\n",
       "      <td>188</td>\n",
       "    </tr>\n",
       "    <tr>\n",
       "      <th>3</th>\n",
       "      <td>idle</td>\n",
       "      <td>167</td>\n",
       "      <td>161</td>\n",
       "      <td>351</td>\n",
       "      <td>17</td>\n",
       "      <td>224</td>\n",
       "      <td>252</td>\n",
       "    </tr>\n",
       "    <tr>\n",
       "      <th>4</th>\n",
       "      <td>idle</td>\n",
       "      <td>106</td>\n",
       "      <td>154</td>\n",
       "      <td>330</td>\n",
       "      <td>346</td>\n",
       "      <td>205</td>\n",
       "      <td>192</td>\n",
       "    </tr>\n",
       "  </tbody>\n",
       "</table>\n",
       "</div>"
      ],
      "text/plain": [
       "  Action Type  left_elbow_angle  right_elbow_angle  left_shoulder_angle  \\\n",
       "0        idle               172                153                  356   \n",
       "1        idle               124                131                    8   \n",
       "2        idle               113                257                    0   \n",
       "3        idle               167                161                  351   \n",
       "4        idle               106                154                  330   \n",
       "\n",
       "   right_shoulder_angle  left_knee_angle  right_knee_angle  \n",
       "0                    23              186               206  \n",
       "1                   345              199               220  \n",
       "2                   331              169               188  \n",
       "3                    17              224               252  \n",
       "4                   346              205               192  "
      ]
     },
     "execution_count": 32,
     "metadata": {},
     "output_type": "execute_result"
    }
   ],
   "source": [
    "data1.head()\n"
   ]
  },
  {
   "cell_type": "code",
   "execution_count": 33,
   "metadata": {},
   "outputs": [
    {
     "data": {
      "text/html": [
       "<div>\n",
       "<style scoped>\n",
       "    .dataframe tbody tr th:only-of-type {\n",
       "        vertical-align: middle;\n",
       "    }\n",
       "\n",
       "    .dataframe tbody tr th {\n",
       "        vertical-align: top;\n",
       "    }\n",
       "\n",
       "    .dataframe thead th {\n",
       "        text-align: right;\n",
       "    }\n",
       "</style>\n",
       "<table border=\"1\" class=\"dataframe\">\n",
       "  <thead>\n",
       "    <tr style=\"text-align: right;\">\n",
       "      <th></th>\n",
       "      <th>Action Type</th>\n",
       "      <th>left_elbow_angle</th>\n",
       "      <th>right_elbow_angle</th>\n",
       "      <th>left_shoulder_angle</th>\n",
       "      <th>right_shoulder_angle</th>\n",
       "      <th>left_knee_angle</th>\n",
       "      <th>right_knee_angle</th>\n",
       "    </tr>\n",
       "  </thead>\n",
       "  <tbody>\n",
       "    <tr>\n",
       "      <th>0</th>\n",
       "      <td>shot</td>\n",
       "      <td>289</td>\n",
       "      <td>71</td>\n",
       "      <td>279</td>\n",
       "      <td>297</td>\n",
       "      <td>186</td>\n",
       "      <td>229</td>\n",
       "    </tr>\n",
       "    <tr>\n",
       "      <th>1</th>\n",
       "      <td>shot</td>\n",
       "      <td>289</td>\n",
       "      <td>222</td>\n",
       "      <td>304</td>\n",
       "      <td>66</td>\n",
       "      <td>149</td>\n",
       "      <td>141</td>\n",
       "    </tr>\n",
       "    <tr>\n",
       "      <th>2</th>\n",
       "      <td>shot</td>\n",
       "      <td>277</td>\n",
       "      <td>335</td>\n",
       "      <td>285</td>\n",
       "      <td>293</td>\n",
       "      <td>154</td>\n",
       "      <td>158</td>\n",
       "    </tr>\n",
       "    <tr>\n",
       "      <th>3</th>\n",
       "      <td>shot</td>\n",
       "      <td>245</td>\n",
       "      <td>203</td>\n",
       "      <td>29</td>\n",
       "      <td>46</td>\n",
       "      <td>133</td>\n",
       "      <td>116</td>\n",
       "    </tr>\n",
       "    <tr>\n",
       "      <th>4</th>\n",
       "      <td>shot</td>\n",
       "      <td>251</td>\n",
       "      <td>200</td>\n",
       "      <td>35</td>\n",
       "      <td>64</td>\n",
       "      <td>131</td>\n",
       "      <td>115</td>\n",
       "    </tr>\n",
       "  </tbody>\n",
       "</table>\n",
       "</div>"
      ],
      "text/plain": [
       "  Action Type  left_elbow_angle  right_elbow_angle  left_shoulder_angle  \\\n",
       "0        shot               289                 71                  279   \n",
       "1        shot               289                222                  304   \n",
       "2        shot               277                335                  285   \n",
       "3        shot               245                203                   29   \n",
       "4        shot               251                200                   35   \n",
       "\n",
       "   right_shoulder_angle  left_knee_angle  right_knee_angle  \n",
       "0                   297              186               229  \n",
       "1                    66              149               141  \n",
       "2                   293              154               158  \n",
       "3                    46              133               116  \n",
       "4                    64              131               115  "
      ]
     },
     "execution_count": 33,
     "metadata": {},
     "output_type": "execute_result"
    }
   ],
   "source": [
    "data2.head()"
   ]
  },
  {
   "cell_type": "code",
   "execution_count": 34,
   "metadata": {},
   "outputs": [],
   "source": [
    "frames = (data1, data2)"
   ]
  },
  {
   "cell_type": "code",
   "execution_count": 35,
   "metadata": {},
   "outputs": [],
   "source": [
    "df = pd.concat(frames)"
   ]
  },
  {
   "cell_type": "code",
   "execution_count": 36,
   "metadata": {},
   "outputs": [
    {
     "data": {
      "text/html": [
       "<div>\n",
       "<style scoped>\n",
       "    .dataframe tbody tr th:only-of-type {\n",
       "        vertical-align: middle;\n",
       "    }\n",
       "\n",
       "    .dataframe tbody tr th {\n",
       "        vertical-align: top;\n",
       "    }\n",
       "\n",
       "    .dataframe thead th {\n",
       "        text-align: right;\n",
       "    }\n",
       "</style>\n",
       "<table border=\"1\" class=\"dataframe\">\n",
       "  <thead>\n",
       "    <tr style=\"text-align: right;\">\n",
       "      <th></th>\n",
       "      <th>Action Type</th>\n",
       "      <th>left_elbow_angle</th>\n",
       "      <th>right_elbow_angle</th>\n",
       "      <th>left_shoulder_angle</th>\n",
       "      <th>right_shoulder_angle</th>\n",
       "      <th>left_knee_angle</th>\n",
       "      <th>right_knee_angle</th>\n",
       "    </tr>\n",
       "  </thead>\n",
       "  <tbody>\n",
       "    <tr>\n",
       "      <th>0</th>\n",
       "      <td>idle</td>\n",
       "      <td>172</td>\n",
       "      <td>153</td>\n",
       "      <td>356</td>\n",
       "      <td>23</td>\n",
       "      <td>186</td>\n",
       "      <td>206</td>\n",
       "    </tr>\n",
       "    <tr>\n",
       "      <th>1</th>\n",
       "      <td>idle</td>\n",
       "      <td>124</td>\n",
       "      <td>131</td>\n",
       "      <td>8</td>\n",
       "      <td>345</td>\n",
       "      <td>199</td>\n",
       "      <td>220</td>\n",
       "    </tr>\n",
       "    <tr>\n",
       "      <th>2</th>\n",
       "      <td>idle</td>\n",
       "      <td>113</td>\n",
       "      <td>257</td>\n",
       "      <td>0</td>\n",
       "      <td>331</td>\n",
       "      <td>169</td>\n",
       "      <td>188</td>\n",
       "    </tr>\n",
       "    <tr>\n",
       "      <th>3</th>\n",
       "      <td>idle</td>\n",
       "      <td>167</td>\n",
       "      <td>161</td>\n",
       "      <td>351</td>\n",
       "      <td>17</td>\n",
       "      <td>224</td>\n",
       "      <td>252</td>\n",
       "    </tr>\n",
       "    <tr>\n",
       "      <th>4</th>\n",
       "      <td>idle</td>\n",
       "      <td>106</td>\n",
       "      <td>154</td>\n",
       "      <td>330</td>\n",
       "      <td>346</td>\n",
       "      <td>205</td>\n",
       "      <td>192</td>\n",
       "    </tr>\n",
       "    <tr>\n",
       "      <th>...</th>\n",
       "      <td>...</td>\n",
       "      <td>...</td>\n",
       "      <td>...</td>\n",
       "      <td>...</td>\n",
       "      <td>...</td>\n",
       "      <td>...</td>\n",
       "      <td>...</td>\n",
       "    </tr>\n",
       "    <tr>\n",
       "      <th>46</th>\n",
       "      <td>shot</td>\n",
       "      <td>174</td>\n",
       "      <td>193</td>\n",
       "      <td>36</td>\n",
       "      <td>165</td>\n",
       "      <td>148</td>\n",
       "      <td>165</td>\n",
       "    </tr>\n",
       "    <tr>\n",
       "      <th>47</th>\n",
       "      <td>shot</td>\n",
       "      <td>133</td>\n",
       "      <td>179</td>\n",
       "      <td>61</td>\n",
       "      <td>238</td>\n",
       "      <td>296</td>\n",
       "      <td>200</td>\n",
       "    </tr>\n",
       "    <tr>\n",
       "      <th>48</th>\n",
       "      <td>shot</td>\n",
       "      <td>183</td>\n",
       "      <td>252</td>\n",
       "      <td>268</td>\n",
       "      <td>93</td>\n",
       "      <td>193</td>\n",
       "      <td>247</td>\n",
       "    </tr>\n",
       "    <tr>\n",
       "      <th>49</th>\n",
       "      <td>shot</td>\n",
       "      <td>357</td>\n",
       "      <td>91</td>\n",
       "      <td>292</td>\n",
       "      <td>311</td>\n",
       "      <td>187</td>\n",
       "      <td>216</td>\n",
       "    </tr>\n",
       "    <tr>\n",
       "      <th>50</th>\n",
       "      <td>shot</td>\n",
       "      <td>309</td>\n",
       "      <td>291</td>\n",
       "      <td>295</td>\n",
       "      <td>26</td>\n",
       "      <td>161</td>\n",
       "      <td>185</td>\n",
       "    </tr>\n",
       "  </tbody>\n",
       "</table>\n",
       "<p>104 rows × 7 columns</p>\n",
       "</div>"
      ],
      "text/plain": [
       "   Action Type  left_elbow_angle  right_elbow_angle  left_shoulder_angle  \\\n",
       "0         idle               172                153                  356   \n",
       "1         idle               124                131                    8   \n",
       "2         idle               113                257                    0   \n",
       "3         idle               167                161                  351   \n",
       "4         idle               106                154                  330   \n",
       "..         ...               ...                ...                  ...   \n",
       "46        shot               174                193                   36   \n",
       "47        shot               133                179                   61   \n",
       "48        shot               183                252                  268   \n",
       "49        shot               357                 91                  292   \n",
       "50        shot               309                291                  295   \n",
       "\n",
       "    right_shoulder_angle  left_knee_angle  right_knee_angle  \n",
       "0                     23              186               206  \n",
       "1                    345              199               220  \n",
       "2                    331              169               188  \n",
       "3                     17              224               252  \n",
       "4                    346              205               192  \n",
       "..                   ...              ...               ...  \n",
       "46                   165              148               165  \n",
       "47                   238              296               200  \n",
       "48                    93              193               247  \n",
       "49                   311              187               216  \n",
       "50                    26              161               185  \n",
       "\n",
       "[104 rows x 7 columns]"
      ]
     },
     "execution_count": 36,
     "metadata": {},
     "output_type": "execute_result"
    }
   ],
   "source": [
    "df"
   ]
  },
  {
   "cell_type": "code",
   "execution_count": 42,
   "metadata": {},
   "outputs": [],
   "source": [
    "X = df.drop(columns=[\"Action Type\"])\n"
   ]
  },
  {
   "cell_type": "code",
   "execution_count": 43,
   "metadata": {},
   "outputs": [
    {
     "data": {
      "text/html": [
       "<div>\n",
       "<style scoped>\n",
       "    .dataframe tbody tr th:only-of-type {\n",
       "        vertical-align: middle;\n",
       "    }\n",
       "\n",
       "    .dataframe tbody tr th {\n",
       "        vertical-align: top;\n",
       "    }\n",
       "\n",
       "    .dataframe thead th {\n",
       "        text-align: right;\n",
       "    }\n",
       "</style>\n",
       "<table border=\"1\" class=\"dataframe\">\n",
       "  <thead>\n",
       "    <tr style=\"text-align: right;\">\n",
       "      <th></th>\n",
       "      <th>left_elbow_angle</th>\n",
       "      <th>right_elbow_angle</th>\n",
       "      <th>left_shoulder_angle</th>\n",
       "      <th>right_shoulder_angle</th>\n",
       "      <th>left_knee_angle</th>\n",
       "      <th>right_knee_angle</th>\n",
       "    </tr>\n",
       "  </thead>\n",
       "  <tbody>\n",
       "    <tr>\n",
       "      <th>0</th>\n",
       "      <td>172</td>\n",
       "      <td>153</td>\n",
       "      <td>356</td>\n",
       "      <td>23</td>\n",
       "      <td>186</td>\n",
       "      <td>206</td>\n",
       "    </tr>\n",
       "    <tr>\n",
       "      <th>1</th>\n",
       "      <td>124</td>\n",
       "      <td>131</td>\n",
       "      <td>8</td>\n",
       "      <td>345</td>\n",
       "      <td>199</td>\n",
       "      <td>220</td>\n",
       "    </tr>\n",
       "    <tr>\n",
       "      <th>2</th>\n",
       "      <td>113</td>\n",
       "      <td>257</td>\n",
       "      <td>0</td>\n",
       "      <td>331</td>\n",
       "      <td>169</td>\n",
       "      <td>188</td>\n",
       "    </tr>\n",
       "    <tr>\n",
       "      <th>3</th>\n",
       "      <td>167</td>\n",
       "      <td>161</td>\n",
       "      <td>351</td>\n",
       "      <td>17</td>\n",
       "      <td>224</td>\n",
       "      <td>252</td>\n",
       "    </tr>\n",
       "    <tr>\n",
       "      <th>4</th>\n",
       "      <td>106</td>\n",
       "      <td>154</td>\n",
       "      <td>330</td>\n",
       "      <td>346</td>\n",
       "      <td>205</td>\n",
       "      <td>192</td>\n",
       "    </tr>\n",
       "    <tr>\n",
       "      <th>...</th>\n",
       "      <td>...</td>\n",
       "      <td>...</td>\n",
       "      <td>...</td>\n",
       "      <td>...</td>\n",
       "      <td>...</td>\n",
       "      <td>...</td>\n",
       "    </tr>\n",
       "    <tr>\n",
       "      <th>46</th>\n",
       "      <td>174</td>\n",
       "      <td>193</td>\n",
       "      <td>36</td>\n",
       "      <td>165</td>\n",
       "      <td>148</td>\n",
       "      <td>165</td>\n",
       "    </tr>\n",
       "    <tr>\n",
       "      <th>47</th>\n",
       "      <td>133</td>\n",
       "      <td>179</td>\n",
       "      <td>61</td>\n",
       "      <td>238</td>\n",
       "      <td>296</td>\n",
       "      <td>200</td>\n",
       "    </tr>\n",
       "    <tr>\n",
       "      <th>48</th>\n",
       "      <td>183</td>\n",
       "      <td>252</td>\n",
       "      <td>268</td>\n",
       "      <td>93</td>\n",
       "      <td>193</td>\n",
       "      <td>247</td>\n",
       "    </tr>\n",
       "    <tr>\n",
       "      <th>49</th>\n",
       "      <td>357</td>\n",
       "      <td>91</td>\n",
       "      <td>292</td>\n",
       "      <td>311</td>\n",
       "      <td>187</td>\n",
       "      <td>216</td>\n",
       "    </tr>\n",
       "    <tr>\n",
       "      <th>50</th>\n",
       "      <td>309</td>\n",
       "      <td>291</td>\n",
       "      <td>295</td>\n",
       "      <td>26</td>\n",
       "      <td>161</td>\n",
       "      <td>185</td>\n",
       "    </tr>\n",
       "  </tbody>\n",
       "</table>\n",
       "<p>104 rows × 6 columns</p>\n",
       "</div>"
      ],
      "text/plain": [
       "    left_elbow_angle  right_elbow_angle  left_shoulder_angle  \\\n",
       "0                172                153                  356   \n",
       "1                124                131                    8   \n",
       "2                113                257                    0   \n",
       "3                167                161                  351   \n",
       "4                106                154                  330   \n",
       "..               ...                ...                  ...   \n",
       "46               174                193                   36   \n",
       "47               133                179                   61   \n",
       "48               183                252                  268   \n",
       "49               357                 91                  292   \n",
       "50               309                291                  295   \n",
       "\n",
       "    right_shoulder_angle  left_knee_angle  right_knee_angle  \n",
       "0                     23              186               206  \n",
       "1                    345              199               220  \n",
       "2                    331              169               188  \n",
       "3                     17              224               252  \n",
       "4                    346              205               192  \n",
       "..                   ...              ...               ...  \n",
       "46                   165              148               165  \n",
       "47                   238              296               200  \n",
       "48                    93              193               247  \n",
       "49                   311              187               216  \n",
       "50                    26              161               185  \n",
       "\n",
       "[104 rows x 6 columns]"
      ]
     },
     "execution_count": 43,
     "metadata": {},
     "output_type": "execute_result"
    }
   ],
   "source": [
    "X"
   ]
  },
  {
   "cell_type": "code",
   "execution_count": 44,
   "metadata": {},
   "outputs": [],
   "source": [
    "y = df[\"Action Type\"]"
   ]
  },
  {
   "cell_type": "code",
   "execution_count": 45,
   "metadata": {},
   "outputs": [
    {
     "data": {
      "text/plain": [
       "0     idle\n",
       "1     idle\n",
       "2     idle\n",
       "3     idle\n",
       "4     idle\n",
       "      ... \n",
       "46    shot\n",
       "47    shot\n",
       "48    shot\n",
       "49    shot\n",
       "50    shot\n",
       "Name: Action Type, Length: 104, dtype: object"
      ]
     },
     "execution_count": 45,
     "metadata": {},
     "output_type": "execute_result"
    }
   ],
   "source": [
    "y"
   ]
  },
  {
   "cell_type": "code",
   "execution_count": 51,
   "metadata": {},
   "outputs": [],
   "source": [
    "X_train, X_temporary, y_train, y_temporary = train_test_split(X, y, train_size=0.8, random_state=42)\n",
    "\n",
    "X_val, X_test, y_val, y_test = train_test_split(X_temporary, y_temporary, train_size=0.5, random_state=42)"
   ]
  },
  {
   "cell_type": "code",
   "execution_count": 52,
   "metadata": {},
   "outputs": [
    {
     "name": "stdout",
     "output_type": "stream",
     "text": [
      "Eğitim seti boyutu (X_train): (83, 6)\n",
      "Test seti boyutu (X_test): (11, 6)\n",
      "Eğitim seti sonuçları boyutu (y_train): (83,)\n",
      "Test seti sonuçları boyutu (y_test): (11,)\n"
     ]
    }
   ],
   "source": [
    "print(\"Eğitim seti boyutu (X_train):\", X_train.shape)\n",
    "print(\"Test seti boyutu (X_test):\", X_test.shape)\n",
    "print(\"Eğitim seti sonuçları boyutu (y_train):\", y_train.shape)\n",
    "print(\"Test seti sonuçları boyutu (y_test):\", y_test.shape)"
   ]
  },
  {
   "cell_type": "code",
   "execution_count": 57,
   "metadata": {},
   "outputs": [],
   "source": [
    "#model \n",
    "\n",
    "model = tf.keras.Sequential()"
   ]
  },
  {
   "cell_type": "code",
   "execution_count": 59,
   "metadata": {},
   "outputs": [],
   "source": [
    "model = tf.keras.Sequential([\n",
    "    tf.keras.layers.Dense(32, activation='relu', input_shape=(6,)),  # Giriş katmanı\n",
    "    tf.keras.layers.Dense(64, activation='relu'),  # Gizli katman\n",
    "    tf.keras.layers.Dense(2, activation='softmax')  # Çıkış katmanı (2 sınıf için softmax aktivasyonu)\n",
    "])\n",
    "\n",
    "# Modeli derleme\n",
    "model.compile(optimizer='adam',\n",
    "              loss='sparse_categorical_crossentropy',  # Çapraz entropi kaybı kullanılıyor\n",
    "              metrics=['accuracy'])"
   ]
  },
  {
   "cell_type": "code",
   "execution_count": 60,
   "metadata": {},
   "outputs": [
    {
     "name": "stdout",
     "output_type": "stream",
     "text": [
      "Epoch 1/10\n",
      "WARNING:tensorflow:From c:\\Users\\zafer\\Desktop\\Proje\\venv\\Lib\\site-packages\\keras\\src\\utils\\tf_utils.py:492: The name tf.ragged.RaggedTensorValue is deprecated. Please use tf.compat.v1.ragged.RaggedTensorValue instead.\n",
      "\n",
      "WARNING:tensorflow:From c:\\Users\\zafer\\Desktop\\Proje\\venv\\Lib\\site-packages\\keras\\src\\engine\\base_layer_utils.py:384: The name tf.executing_eagerly_outside_functions is deprecated. Please use tf.compat.v1.executing_eagerly_outside_functions instead.\n",
      "\n"
     ]
    },
    {
     "ename": "UnimplementedError",
     "evalue": "Graph execution error:\n\nDetected at node Cast_1 defined at (most recent call last):\n  File \"<frozen runpy>\", line 198, in _run_module_as_main\n\n  File \"<frozen runpy>\", line 88, in _run_code\n\n  File \"c:\\Users\\zafer\\Desktop\\Proje\\venv\\Lib\\site-packages\\ipykernel_launcher.py\", line 17, in <module>\n\n  File \"c:\\Users\\zafer\\Desktop\\Proje\\venv\\Lib\\site-packages\\traitlets\\config\\application.py\", line 1053, in launch_instance\n\n  File \"c:\\Users\\zafer\\Desktop\\Proje\\venv\\Lib\\site-packages\\ipykernel\\kernelapp.py\", line 737, in start\n\n  File \"c:\\Users\\zafer\\Desktop\\Proje\\venv\\Lib\\site-packages\\tornado\\platform\\asyncio.py\", line 195, in start\n\n  File \"C:\\Users\\zafer\\AppData\\Local\\Programs\\Python\\Python311\\Lib\\asyncio\\base_events.py\", line 604, in run_forever\n\n  File \"C:\\Users\\zafer\\AppData\\Local\\Programs\\Python\\Python311\\Lib\\asyncio\\base_events.py\", line 1909, in _run_once\n\n  File \"C:\\Users\\zafer\\AppData\\Local\\Programs\\Python\\Python311\\Lib\\asyncio\\events.py\", line 80, in _run\n\n  File \"c:\\Users\\zafer\\Desktop\\Proje\\venv\\Lib\\site-packages\\ipykernel\\kernelbase.py\", line 524, in dispatch_queue\n\n  File \"c:\\Users\\zafer\\Desktop\\Proje\\venv\\Lib\\site-packages\\ipykernel\\kernelbase.py\", line 513, in process_one\n\n  File \"c:\\Users\\zafer\\Desktop\\Proje\\venv\\Lib\\site-packages\\ipykernel\\kernelbase.py\", line 418, in dispatch_shell\n\n  File \"c:\\Users\\zafer\\Desktop\\Proje\\venv\\Lib\\site-packages\\ipykernel\\kernelbase.py\", line 758, in execute_request\n\n  File \"c:\\Users\\zafer\\Desktop\\Proje\\venv\\Lib\\site-packages\\ipykernel\\ipkernel.py\", line 426, in do_execute\n\n  File \"c:\\Users\\zafer\\Desktop\\Proje\\venv\\Lib\\site-packages\\ipykernel\\zmqshell.py\", line 549, in run_cell\n\n  File \"c:\\Users\\zafer\\Desktop\\Proje\\venv\\Lib\\site-packages\\IPython\\core\\interactiveshell.py\", line 3046, in run_cell\n\n  File \"c:\\Users\\zafer\\Desktop\\Proje\\venv\\Lib\\site-packages\\IPython\\core\\interactiveshell.py\", line 3101, in _run_cell\n\n  File \"c:\\Users\\zafer\\Desktop\\Proje\\venv\\Lib\\site-packages\\IPython\\core\\async_helpers.py\", line 129, in _pseudo_sync_runner\n\n  File \"c:\\Users\\zafer\\Desktop\\Proje\\venv\\Lib\\site-packages\\IPython\\core\\interactiveshell.py\", line 3306, in run_cell_async\n\n  File \"c:\\Users\\zafer\\Desktop\\Proje\\venv\\Lib\\site-packages\\IPython\\core\\interactiveshell.py\", line 3488, in run_ast_nodes\n\n  File \"c:\\Users\\zafer\\Desktop\\Proje\\venv\\Lib\\site-packages\\IPython\\core\\interactiveshell.py\", line 3548, in run_code\n\n  File \"C:\\Users\\zafer\\AppData\\Local\\Temp\\ipykernel_29560\\1793697901.py\", line 1, in <module>\n\n  File \"c:\\Users\\zafer\\Desktop\\Proje\\venv\\Lib\\site-packages\\keras\\src\\utils\\traceback_utils.py\", line 65, in error_handler\n\n  File \"c:\\Users\\zafer\\Desktop\\Proje\\venv\\Lib\\site-packages\\keras\\src\\engine\\training.py\", line 1807, in fit\n\n  File \"c:\\Users\\zafer\\Desktop\\Proje\\venv\\Lib\\site-packages\\keras\\src\\engine\\training.py\", line 1401, in train_function\n\n  File \"c:\\Users\\zafer\\Desktop\\Proje\\venv\\Lib\\site-packages\\keras\\src\\engine\\training.py\", line 1384, in step_function\n\n  File \"c:\\Users\\zafer\\Desktop\\Proje\\venv\\Lib\\site-packages\\keras\\src\\engine\\training.py\", line 1373, in run_step\n\n  File \"c:\\Users\\zafer\\Desktop\\Proje\\venv\\Lib\\site-packages\\keras\\src\\engine\\training.py\", line 1155, in train_step\n\n  File \"c:\\Users\\zafer\\Desktop\\Proje\\venv\\Lib\\site-packages\\keras\\src\\engine\\training.py\", line 1249, in compute_metrics\n\n  File \"c:\\Users\\zafer\\Desktop\\Proje\\venv\\Lib\\site-packages\\keras\\src\\engine\\compile_utils.py\", line 620, in update_state\n\n  File \"c:\\Users\\zafer\\Desktop\\Proje\\venv\\Lib\\site-packages\\keras\\src\\utils\\metrics_utils.py\", line 77, in decorated\n\n  File \"c:\\Users\\zafer\\Desktop\\Proje\\venv\\Lib\\site-packages\\keras\\src\\metrics\\base_metric.py\", line 140, in update_state_fn\n\n  File \"c:\\Users\\zafer\\Desktop\\Proje\\venv\\Lib\\site-packages\\keras\\src\\metrics\\base_metric.py\", line 708, in update_state\n\nCast string to float is not supported\n\t [[{{node Cast_1}}]] [Op:__inference_train_function_1126]",
     "output_type": "error",
     "traceback": [
      "\u001b[1;31m---------------------------------------------------------------------------\u001b[0m",
      "\u001b[1;31mUnimplementedError\u001b[0m                        Traceback (most recent call last)",
      "\u001b[1;32mc:\\Users\\zafer\\Desktop\\Proje\\datacollection\\preparedata.ipynb Cell 17\u001b[0m line \u001b[0;36m1\n\u001b[1;32m----> <a href='vscode-notebook-cell:/c%3A/Users/zafer/Desktop/Proje/datacollection/preparedata.ipynb#X40sZmlsZQ%3D%3D?line=0'>1</a>\u001b[0m model\u001b[39m.\u001b[39;49mfit(X_train, y_train, epochs\u001b[39m=\u001b[39;49m\u001b[39m10\u001b[39;49m, validation_data\u001b[39m=\u001b[39;49m(X_val, y_val))\n",
      "File \u001b[1;32mc:\\Users\\zafer\\Desktop\\Proje\\venv\\Lib\\site-packages\\keras\\src\\utils\\traceback_utils.py:70\u001b[0m, in \u001b[0;36mfilter_traceback.<locals>.error_handler\u001b[1;34m(*args, **kwargs)\u001b[0m\n\u001b[0;32m     67\u001b[0m     filtered_tb \u001b[39m=\u001b[39m _process_traceback_frames(e\u001b[39m.\u001b[39m__traceback__)\n\u001b[0;32m     68\u001b[0m     \u001b[39m# To get the full stack trace, call:\u001b[39;00m\n\u001b[0;32m     69\u001b[0m     \u001b[39m# `tf.debugging.disable_traceback_filtering()`\u001b[39;00m\n\u001b[1;32m---> 70\u001b[0m     \u001b[39mraise\u001b[39;00m e\u001b[39m.\u001b[39mwith_traceback(filtered_tb) \u001b[39mfrom\u001b[39;00m \u001b[39mNone\u001b[39;00m\n\u001b[0;32m     71\u001b[0m \u001b[39mfinally\u001b[39;00m:\n\u001b[0;32m     72\u001b[0m     \u001b[39mdel\u001b[39;00m filtered_tb\n",
      "File \u001b[1;32mc:\\Users\\zafer\\Desktop\\Proje\\venv\\Lib\\site-packages\\tensorflow\\python\\eager\\execute.py:53\u001b[0m, in \u001b[0;36mquick_execute\u001b[1;34m(op_name, num_outputs, inputs, attrs, ctx, name)\u001b[0m\n\u001b[0;32m     51\u001b[0m \u001b[39mtry\u001b[39;00m:\n\u001b[0;32m     52\u001b[0m   ctx\u001b[39m.\u001b[39mensure_initialized()\n\u001b[1;32m---> 53\u001b[0m   tensors \u001b[39m=\u001b[39m pywrap_tfe\u001b[39m.\u001b[39mTFE_Py_Execute(ctx\u001b[39m.\u001b[39m_handle, device_name, op_name,\n\u001b[0;32m     54\u001b[0m                                       inputs, attrs, num_outputs)\n\u001b[0;32m     55\u001b[0m \u001b[39mexcept\u001b[39;00m core\u001b[39m.\u001b[39m_NotOkStatusException \u001b[39mas\u001b[39;00m e:\n\u001b[0;32m     56\u001b[0m   \u001b[39mif\u001b[39;00m name \u001b[39mis\u001b[39;00m \u001b[39mnot\u001b[39;00m \u001b[39mNone\u001b[39;00m:\n",
      "\u001b[1;31mUnimplementedError\u001b[0m: Graph execution error:\n\nDetected at node Cast_1 defined at (most recent call last):\n  File \"<frozen runpy>\", line 198, in _run_module_as_main\n\n  File \"<frozen runpy>\", line 88, in _run_code\n\n  File \"c:\\Users\\zafer\\Desktop\\Proje\\venv\\Lib\\site-packages\\ipykernel_launcher.py\", line 17, in <module>\n\n  File \"c:\\Users\\zafer\\Desktop\\Proje\\venv\\Lib\\site-packages\\traitlets\\config\\application.py\", line 1053, in launch_instance\n\n  File \"c:\\Users\\zafer\\Desktop\\Proje\\venv\\Lib\\site-packages\\ipykernel\\kernelapp.py\", line 737, in start\n\n  File \"c:\\Users\\zafer\\Desktop\\Proje\\venv\\Lib\\site-packages\\tornado\\platform\\asyncio.py\", line 195, in start\n\n  File \"C:\\Users\\zafer\\AppData\\Local\\Programs\\Python\\Python311\\Lib\\asyncio\\base_events.py\", line 604, in run_forever\n\n  File \"C:\\Users\\zafer\\AppData\\Local\\Programs\\Python\\Python311\\Lib\\asyncio\\base_events.py\", line 1909, in _run_once\n\n  File \"C:\\Users\\zafer\\AppData\\Local\\Programs\\Python\\Python311\\Lib\\asyncio\\events.py\", line 80, in _run\n\n  File \"c:\\Users\\zafer\\Desktop\\Proje\\venv\\Lib\\site-packages\\ipykernel\\kernelbase.py\", line 524, in dispatch_queue\n\n  File \"c:\\Users\\zafer\\Desktop\\Proje\\venv\\Lib\\site-packages\\ipykernel\\kernelbase.py\", line 513, in process_one\n\n  File \"c:\\Users\\zafer\\Desktop\\Proje\\venv\\Lib\\site-packages\\ipykernel\\kernelbase.py\", line 418, in dispatch_shell\n\n  File \"c:\\Users\\zafer\\Desktop\\Proje\\venv\\Lib\\site-packages\\ipykernel\\kernelbase.py\", line 758, in execute_request\n\n  File \"c:\\Users\\zafer\\Desktop\\Proje\\venv\\Lib\\site-packages\\ipykernel\\ipkernel.py\", line 426, in do_execute\n\n  File \"c:\\Users\\zafer\\Desktop\\Proje\\venv\\Lib\\site-packages\\ipykernel\\zmqshell.py\", line 549, in run_cell\n\n  File \"c:\\Users\\zafer\\Desktop\\Proje\\venv\\Lib\\site-packages\\IPython\\core\\interactiveshell.py\", line 3046, in run_cell\n\n  File \"c:\\Users\\zafer\\Desktop\\Proje\\venv\\Lib\\site-packages\\IPython\\core\\interactiveshell.py\", line 3101, in _run_cell\n\n  File \"c:\\Users\\zafer\\Desktop\\Proje\\venv\\Lib\\site-packages\\IPython\\core\\async_helpers.py\", line 129, in _pseudo_sync_runner\n\n  File \"c:\\Users\\zafer\\Desktop\\Proje\\venv\\Lib\\site-packages\\IPython\\core\\interactiveshell.py\", line 3306, in run_cell_async\n\n  File \"c:\\Users\\zafer\\Desktop\\Proje\\venv\\Lib\\site-packages\\IPython\\core\\interactiveshell.py\", line 3488, in run_ast_nodes\n\n  File \"c:\\Users\\zafer\\Desktop\\Proje\\venv\\Lib\\site-packages\\IPython\\core\\interactiveshell.py\", line 3548, in run_code\n\n  File \"C:\\Users\\zafer\\AppData\\Local\\Temp\\ipykernel_29560\\1793697901.py\", line 1, in <module>\n\n  File \"c:\\Users\\zafer\\Desktop\\Proje\\venv\\Lib\\site-packages\\keras\\src\\utils\\traceback_utils.py\", line 65, in error_handler\n\n  File \"c:\\Users\\zafer\\Desktop\\Proje\\venv\\Lib\\site-packages\\keras\\src\\engine\\training.py\", line 1807, in fit\n\n  File \"c:\\Users\\zafer\\Desktop\\Proje\\venv\\Lib\\site-packages\\keras\\src\\engine\\training.py\", line 1401, in train_function\n\n  File \"c:\\Users\\zafer\\Desktop\\Proje\\venv\\Lib\\site-packages\\keras\\src\\engine\\training.py\", line 1384, in step_function\n\n  File \"c:\\Users\\zafer\\Desktop\\Proje\\venv\\Lib\\site-packages\\keras\\src\\engine\\training.py\", line 1373, in run_step\n\n  File \"c:\\Users\\zafer\\Desktop\\Proje\\venv\\Lib\\site-packages\\keras\\src\\engine\\training.py\", line 1155, in train_step\n\n  File \"c:\\Users\\zafer\\Desktop\\Proje\\venv\\Lib\\site-packages\\keras\\src\\engine\\training.py\", line 1249, in compute_metrics\n\n  File \"c:\\Users\\zafer\\Desktop\\Proje\\venv\\Lib\\site-packages\\keras\\src\\engine\\compile_utils.py\", line 620, in update_state\n\n  File \"c:\\Users\\zafer\\Desktop\\Proje\\venv\\Lib\\site-packages\\keras\\src\\utils\\metrics_utils.py\", line 77, in decorated\n\n  File \"c:\\Users\\zafer\\Desktop\\Proje\\venv\\Lib\\site-packages\\keras\\src\\metrics\\base_metric.py\", line 140, in update_state_fn\n\n  File \"c:\\Users\\zafer\\Desktop\\Proje\\venv\\Lib\\site-packages\\keras\\src\\metrics\\base_metric.py\", line 708, in update_state\n\nCast string to float is not supported\n\t [[{{node Cast_1}}]] [Op:__inference_train_function_1126]"
     ]
    }
   ],
   "source": [
    "model.fit(X_train, y_train, epochs=10, validation_data=(X_val, y_val))\n"
   ]
  },
  {
   "cell_type": "code",
   "execution_count": 47,
   "metadata": {},
   "outputs": [
    {
     "ename": "ValueError",
     "evalue": "tf.enable_eager_execution must be called at program startup.",
     "output_type": "error",
     "traceback": [
      "\u001b[1;31m---------------------------------------------------------------------------\u001b[0m",
      "\u001b[1;31mValueError\u001b[0m                                Traceback (most recent call last)",
      "\u001b[1;32mc:\\Users\\zafer\\Desktop\\Proje\\datacollection\\preparedata.ipynb Cell 18\u001b[0m line \u001b[0;36m1\n\u001b[1;32m----> <a href='vscode-notebook-cell:/c%3A/Users/zafer/Desktop/Proje/datacollection/preparedata.ipynb#X34sZmlsZQ%3D%3D?line=0'>1</a>\u001b[0m tf\u001b[39m.\u001b[39;49mcompat\u001b[39m.\u001b[39;49mv1\u001b[39m.\u001b[39;49menable_eager_execution()\n",
      "File \u001b[1;32mc:\\Users\\zafer\\Desktop\\Proje\\venv\\Lib\\site-packages\\tensorflow\\python\\framework\\ops.py:4856\u001b[0m, in \u001b[0;36menable_eager_execution\u001b[1;34m(config, device_policy, execution_mode)\u001b[0m\n\u001b[0;32m   4854\u001b[0m logging\u001b[39m.\u001b[39mvlog(\u001b[39m1\u001b[39m, \u001b[39m\"\u001b[39m\u001b[39mEnabling eager execution\u001b[39m\u001b[39m\"\u001b[39m)\n\u001b[0;32m   4855\u001b[0m \u001b[39mif\u001b[39;00m context\u001b[39m.\u001b[39mdefault_execution_mode \u001b[39m!=\u001b[39m context\u001b[39m.\u001b[39mEAGER_MODE:\n\u001b[1;32m-> 4856\u001b[0m   \u001b[39mreturn\u001b[39;00m enable_eager_execution_internal(\n\u001b[0;32m   4857\u001b[0m       config\u001b[39m=\u001b[39;49mconfig,\n\u001b[0;32m   4858\u001b[0m       device_policy\u001b[39m=\u001b[39;49mdevice_policy,\n\u001b[0;32m   4859\u001b[0m       execution_mode\u001b[39m=\u001b[39;49mexecution_mode,\n\u001b[0;32m   4860\u001b[0m       server_def\u001b[39m=\u001b[39;49m\u001b[39mNone\u001b[39;49;00m)\n",
      "File \u001b[1;32mc:\\Users\\zafer\\Desktop\\Proje\\venv\\Lib\\site-packages\\tensorflow\\python\\framework\\ops.py:4920\u001b[0m, in \u001b[0;36menable_eager_execution_internal\u001b[1;34m(config, device_policy, execution_mode, server_def)\u001b[0m\n\u001b[0;32m   4917\u001b[0m   graph_mode_has_been_used \u001b[39m=\u001b[39m (\n\u001b[0;32m   4918\u001b[0m       _default_graph_stack\u001b[39m.\u001b[39m_global_default_graph \u001b[39mis\u001b[39;00m \u001b[39mnot\u001b[39;00m \u001b[39mNone\u001b[39;00m)  \u001b[39m# pylint: disable=protected-access\u001b[39;00m\n\u001b[0;32m   4919\u001b[0m   \u001b[39mif\u001b[39;00m graph_mode_has_been_used:\n\u001b[1;32m-> 4920\u001b[0m     \u001b[39mraise\u001b[39;00m \u001b[39mValueError\u001b[39;00m(\n\u001b[0;32m   4921\u001b[0m         \u001b[39m\"\u001b[39m\u001b[39mtf.enable_eager_execution must be called at program startup.\u001b[39m\u001b[39m\"\u001b[39m)\n\u001b[0;32m   4922\u001b[0m context\u001b[39m.\u001b[39mdefault_execution_mode \u001b[39m=\u001b[39m context\u001b[39m.\u001b[39mEAGER_MODE\n\u001b[0;32m   4923\u001b[0m \u001b[39m# pylint: disable=protected-access\u001b[39;00m\n",
      "\u001b[1;31mValueError\u001b[0m: tf.enable_eager_execution must be called at program startup."
     ]
    }
   ],
   "source": [
    "tf.compat.v1.enable_eager_execution()"
   ]
  },
  {
   "cell_type": "code",
   "execution_count": 45,
   "metadata": {},
   "outputs": [],
   "source": [
    "from tensorflow import keras"
   ]
  },
  {
   "cell_type": "code",
   "execution_count": 46,
   "metadata": {},
   "outputs": [
    {
     "ename": "NotImplementedError",
     "evalue": "numpy() is only available when eager execution is enabled.",
     "output_type": "error",
     "traceback": [
      "\u001b[1;31m---------------------------------------------------------------------------\u001b[0m",
      "\u001b[1;31mNotImplementedError\u001b[0m                       Traceback (most recent call last)",
      "\u001b[1;32mc:\\Users\\zafer\\Desktop\\Proje\\datacollection\\preparedata.ipynb Cell 19\u001b[0m line \u001b[0;36m2\n\u001b[0;32m      <a href='vscode-notebook-cell:/c%3A/Users/zafer/Desktop/Proje/datacollection/preparedata.ipynb#X24sZmlsZQ%3D%3D?line=0'>1</a>\u001b[0m \u001b[39mimport\u001b[39;00m \u001b[39mnumpy\u001b[39;00m \u001b[39mas\u001b[39;00m \u001b[39mnp\u001b[39;00m\n\u001b[1;32m----> <a href='vscode-notebook-cell:/c%3A/Users/zafer/Desktop/Proje/datacollection/preparedata.ipynb#X24sZmlsZQ%3D%3D?line=1'>2</a>\u001b[0m new_model \u001b[39m=\u001b[39m tf\u001b[39m.\u001b[39;49mkeras\u001b[39m.\u001b[39;49mmodels\u001b[39m.\u001b[39;49mload_model(\u001b[39m'\u001b[39;49m\u001b[39mmy_model\u001b[39;49m\u001b[39m'\u001b[39;49m)\n",
      "File \u001b[1;32mc:\\Users\\zafer\\Desktop\\Proje\\venv\\Lib\\site-packages\\keras\\src\\saving\\saving_api.py:262\u001b[0m, in \u001b[0;36mload_model\u001b[1;34m(filepath, custom_objects, compile, safe_mode, **kwargs)\u001b[0m\n\u001b[0;32m    254\u001b[0m     \u001b[39mreturn\u001b[39;00m saving_lib\u001b[39m.\u001b[39mload_model(\n\u001b[0;32m    255\u001b[0m         filepath,\n\u001b[0;32m    256\u001b[0m         custom_objects\u001b[39m=\u001b[39mcustom_objects,\n\u001b[0;32m    257\u001b[0m         \u001b[39mcompile\u001b[39m\u001b[39m=\u001b[39m\u001b[39mcompile\u001b[39m,\n\u001b[0;32m    258\u001b[0m         safe_mode\u001b[39m=\u001b[39msafe_mode,\n\u001b[0;32m    259\u001b[0m     )\n\u001b[0;32m    261\u001b[0m \u001b[39m# Legacy case.\u001b[39;00m\n\u001b[1;32m--> 262\u001b[0m \u001b[39mreturn\u001b[39;00m legacy_sm_saving_lib\u001b[39m.\u001b[39;49mload_model(\n\u001b[0;32m    263\u001b[0m     filepath, custom_objects\u001b[39m=\u001b[39;49mcustom_objects, \u001b[39mcompile\u001b[39;49m\u001b[39m=\u001b[39;49m\u001b[39mcompile\u001b[39;49m, \u001b[39m*\u001b[39;49m\u001b[39m*\u001b[39;49mkwargs\n\u001b[0;32m    264\u001b[0m )\n",
      "File \u001b[1;32mc:\\Users\\zafer\\Desktop\\Proje\\venv\\Lib\\site-packages\\keras\\src\\utils\\traceback_utils.py:70\u001b[0m, in \u001b[0;36mfilter_traceback.<locals>.error_handler\u001b[1;34m(*args, **kwargs)\u001b[0m\n\u001b[0;32m     67\u001b[0m     filtered_tb \u001b[39m=\u001b[39m _process_traceback_frames(e\u001b[39m.\u001b[39m__traceback__)\n\u001b[0;32m     68\u001b[0m     \u001b[39m# To get the full stack trace, call:\u001b[39;00m\n\u001b[0;32m     69\u001b[0m     \u001b[39m# `tf.debugging.disable_traceback_filtering()`\u001b[39;00m\n\u001b[1;32m---> 70\u001b[0m     \u001b[39mraise\u001b[39;00m e\u001b[39m.\u001b[39mwith_traceback(filtered_tb) \u001b[39mfrom\u001b[39;00m \u001b[39mNone\u001b[39;00m\n\u001b[0;32m     71\u001b[0m \u001b[39mfinally\u001b[39;00m:\n\u001b[0;32m     72\u001b[0m     \u001b[39mdel\u001b[39;00m filtered_tb\n",
      "File \u001b[1;32mc:\\Users\\zafer\\Desktop\\Proje\\venv\\Lib\\site-packages\\tensorflow\\python\\ops\\resource_variable_ops.py:690\u001b[0m, in \u001b[0;36mBaseResourceVariable.numpy\u001b[1;34m(self)\u001b[0m\n\u001b[0;32m    688\u001b[0m \u001b[39mif\u001b[39;00m context\u001b[39m.\u001b[39mexecuting_eagerly():\n\u001b[0;32m    689\u001b[0m   \u001b[39mreturn\u001b[39;00m \u001b[39mself\u001b[39m\u001b[39m.\u001b[39mread_value()\u001b[39m.\u001b[39mnumpy()\n\u001b[1;32m--> 690\u001b[0m \u001b[39mraise\u001b[39;00m \u001b[39mNotImplementedError\u001b[39;00m(\n\u001b[0;32m    691\u001b[0m     \u001b[39m\"\u001b[39m\u001b[39mnumpy() is only available when eager execution is enabled.\u001b[39m\u001b[39m\"\u001b[39m)\n",
      "\u001b[1;31mNotImplementedError\u001b[0m: numpy() is only available when eager execution is enabled."
     ]
    }
   ],
   "source": [
    "import numpy as np\n",
    "new_model = tf.keras.models.load_model('my_model')"
   ]
  },
  {
   "cell_type": "code",
   "execution_count": 38,
   "metadata": {},
   "outputs": [
    {
     "ename": "NotImplementedError",
     "evalue": "numpy() is only available when eager execution is enabled.",
     "output_type": "error",
     "traceback": [
      "\u001b[1;31m---------------------------------------------------------------------------\u001b[0m",
      "\u001b[1;31mNotImplementedError\u001b[0m                       Traceback (most recent call last)",
      "\u001b[1;32mc:\\Users\\zafer\\Desktop\\Proje\\datacollection\\preparedata.ipynb Cell 19\u001b[0m line \u001b[0;36m1\n\u001b[1;32m----> <a href='vscode-notebook-cell:/c%3A/Users/zafer/Desktop/Proje/datacollection/preparedata.ipynb#X23sZmlsZQ%3D%3D?line=0'>1</a>\u001b[0m new_model \u001b[39m=\u001b[39m tf\u001b[39m.\u001b[39;49mkeras\u001b[39m.\u001b[39;49mmodels\u001b[39m.\u001b[39;49mload_model(\u001b[39m'\u001b[39;49m\u001b[39mmy_model\u001b[39;49m\u001b[39m'\u001b[39;49m)\n",
      "File \u001b[1;32mc:\\Users\\zafer\\Desktop\\Proje\\venv\\Lib\\site-packages\\keras\\src\\saving\\saving_api.py:262\u001b[0m, in \u001b[0;36mload_model\u001b[1;34m(filepath, custom_objects, compile, safe_mode, **kwargs)\u001b[0m\n\u001b[0;32m    254\u001b[0m     \u001b[39mreturn\u001b[39;00m saving_lib\u001b[39m.\u001b[39mload_model(\n\u001b[0;32m    255\u001b[0m         filepath,\n\u001b[0;32m    256\u001b[0m         custom_objects\u001b[39m=\u001b[39mcustom_objects,\n\u001b[0;32m    257\u001b[0m         \u001b[39mcompile\u001b[39m\u001b[39m=\u001b[39m\u001b[39mcompile\u001b[39m,\n\u001b[0;32m    258\u001b[0m         safe_mode\u001b[39m=\u001b[39msafe_mode,\n\u001b[0;32m    259\u001b[0m     )\n\u001b[0;32m    261\u001b[0m \u001b[39m# Legacy case.\u001b[39;00m\n\u001b[1;32m--> 262\u001b[0m \u001b[39mreturn\u001b[39;00m legacy_sm_saving_lib\u001b[39m.\u001b[39;49mload_model(\n\u001b[0;32m    263\u001b[0m     filepath, custom_objects\u001b[39m=\u001b[39;49mcustom_objects, \u001b[39mcompile\u001b[39;49m\u001b[39m=\u001b[39;49m\u001b[39mcompile\u001b[39;49m, \u001b[39m*\u001b[39;49m\u001b[39m*\u001b[39;49mkwargs\n\u001b[0;32m    264\u001b[0m )\n",
      "File \u001b[1;32mc:\\Users\\zafer\\Desktop\\Proje\\venv\\Lib\\site-packages\\keras\\src\\utils\\traceback_utils.py:70\u001b[0m, in \u001b[0;36mfilter_traceback.<locals>.error_handler\u001b[1;34m(*args, **kwargs)\u001b[0m\n\u001b[0;32m     67\u001b[0m     filtered_tb \u001b[39m=\u001b[39m _process_traceback_frames(e\u001b[39m.\u001b[39m__traceback__)\n\u001b[0;32m     68\u001b[0m     \u001b[39m# To get the full stack trace, call:\u001b[39;00m\n\u001b[0;32m     69\u001b[0m     \u001b[39m# `tf.debugging.disable_traceback_filtering()`\u001b[39;00m\n\u001b[1;32m---> 70\u001b[0m     \u001b[39mraise\u001b[39;00m e\u001b[39m.\u001b[39mwith_traceback(filtered_tb) \u001b[39mfrom\u001b[39;00m \u001b[39mNone\u001b[39;00m\n\u001b[0;32m     71\u001b[0m \u001b[39mfinally\u001b[39;00m:\n\u001b[0;32m     72\u001b[0m     \u001b[39mdel\u001b[39;00m filtered_tb\n",
      "File \u001b[1;32mc:\\Users\\zafer\\Desktop\\Proje\\venv\\Lib\\site-packages\\tensorflow\\python\\ops\\resource_variable_ops.py:690\u001b[0m, in \u001b[0;36mBaseResourceVariable.numpy\u001b[1;34m(self)\u001b[0m\n\u001b[0;32m    688\u001b[0m \u001b[39mif\u001b[39;00m context\u001b[39m.\u001b[39mexecuting_eagerly():\n\u001b[0;32m    689\u001b[0m   \u001b[39mreturn\u001b[39;00m \u001b[39mself\u001b[39m\u001b[39m.\u001b[39mread_value()\u001b[39m.\u001b[39mnumpy()\n\u001b[1;32m--> 690\u001b[0m \u001b[39mraise\u001b[39;00m \u001b[39mNotImplementedError\u001b[39;00m(\n\u001b[0;32m    691\u001b[0m     \u001b[39m\"\u001b[39m\u001b[39mnumpy() is only available when eager execution is enabled.\u001b[39m\u001b[39m\"\u001b[39m)\n",
      "\u001b[1;31mNotImplementedError\u001b[0m: numpy() is only available when eager execution is enabled."
     ]
    }
   ],
   "source": [
    "new_model = tf.keras.models.load_model('my_model')"
   ]
  },
  {
   "cell_type": "code",
   "execution_count": 32,
   "metadata": {},
   "outputs": [
    {
     "name": "stdout",
     "output_type": "stream",
     "text": [
      "<class 'tensorflow.python.saved_model.load.Loader._recreate_base_user_object.<locals>._UserObject'>\n"
     ]
    }
   ],
   "source": [
    "print(type(loaded_model))"
   ]
  },
  {
   "cell_type": "code",
   "execution_count": 33,
   "metadata": {},
   "outputs": [
    {
     "name": "stdout",
     "output_type": "stream",
     "text": [
      "['__annotations__', '__call__', '__class__', '__delattr__', '__dict__', '__dir__', '__doc__', '__eq__', '__format__', '__ge__', '__getattribute__', '__getstate__', '__gt__', '__hash__', '__init__', '__init_subclass__', '__le__', '__lt__', '__module__', '__ne__', '__new__', '__reduce__', '__reduce_ex__', '__repr__', '__setattr__', '__sizeof__', '__str__', '__subclasshook__', '__weakref__', '_add_trackable_child', '_add_variable_with_custom_getter', '_checkpoint_dependencies', '_copy_trackable_to_cpu', '_default_save_signature', '_deferred_dependencies', '_delete_tracking', '_deserialization_dependencies', '_deserialize_from_proto', '_export_to_saved_model_graph', '_gather_saveables_for_checkpoint', '_handle_deferred_dependencies', '_lookup_dependency', '_maybe_initialize_trackable', '_name_based_attribute_restore', '_name_based_restores', '_no_dependency', '_object_identifier', '_preload_simple_restoration', '_restore_from_tensors', '_self_name_based_restores', '_self_saveable_object_factories', '_self_setattr_tracking', '_self_unconditional_checkpoint_dependencies', '_self_unconditional_deferred_dependencies', '_self_unconditional_dependency_names', '_self_update_uid', '_serialize_to_proto', '_serialize_to_tensors', '_setattr_tracking', '_tf_api_names', '_tf_api_names_v1', '_track_trackable', '_trackable_children', '_unconditional_checkpoint_dependencies', '_unconditional_dependency_names', '_update_uid', 'call_and_return_all_conditional_losses', 'graph_debug_info', 'keras_api', 'layer-0', 'layer-1', 'layer-2', 'layer_with_weights-0', 'layer_with_weights-1', 'layer_with_weights-2', 'optimizer', 'regularization_losses', 'signatures', 'tensorflow_git_version', 'tensorflow_version', 'trainable_variables', 'variables']\n"
     ]
    }
   ],
   "source": [
    "print(dir(loaded_model))"
   ]
  },
  {
   "cell_type": "code",
   "execution_count": 34,
   "metadata": {},
   "outputs": [
    {
     "data": {
      "text/plain": [
       "ListWrapper([<tf.Variable 'dense_6/kernel_9:0' shape=(6, 32) dtype=float32>, <tf.Variable 'dense_6/bias_9:0' shape=(32,) dtype=float32>, <tf.Variable 'dense_7/kernel_9:0' shape=(32, 64) dtype=float32>, <tf.Variable 'dense_7/bias_9:0' shape=(64,) dtype=float32>, <tf.Variable 'dense_8/kernel_9:0' shape=(64, 2) dtype=float32>, <tf.Variable 'dense_8/bias_9:0' shape=(2,) dtype=float32>])"
      ]
     },
     "execution_count": 34,
     "metadata": {},
     "output_type": "execute_result"
    }
   ],
   "source": [
    "loaded_model.variables"
   ]
  },
  {
   "cell_type": "code",
   "execution_count": 30,
   "metadata": {},
   "outputs": [
    {
     "ename": "KeyError",
     "evalue": "'predict'",
     "output_type": "error",
     "traceback": [
      "\u001b[1;31m---------------------------------------------------------------------------\u001b[0m",
      "\u001b[1;31mKeyError\u001b[0m                                  Traceback (most recent call last)",
      "\u001b[1;32mc:\\Users\\zafer\\Desktop\\Proje\\datacollection\\preparedata.ipynb Cell 22\u001b[0m line \u001b[0;36m1\n\u001b[0;32m      <a href='vscode-notebook-cell:/c%3A/Users/zafer/Desktop/Proje/datacollection/preparedata.ipynb#X31sZmlsZQ%3D%3D?line=8'>9</a>\u001b[0m   \u001b[39mreturn\u001b[39;00m imported\u001b[39m.\u001b[39msignatures[\u001b[39m\"\u001b[39m\u001b[39mpredict\u001b[39m\u001b[39m\"\u001b[39m](examples\u001b[39m=\u001b[39mtf\u001b[39m.\u001b[39mconstant([example\u001b[39m.\u001b[39mSerializeToString()]))\n\u001b[0;32m     <a href='vscode-notebook-cell:/c%3A/Users/zafer/Desktop/Proje/datacollection/preparedata.ipynb#X31sZmlsZQ%3D%3D?line=10'>11</a>\u001b[0m \u001b[39m# Modelin yeni verilere göre tahminlerini alın\u001b[39;00m\n\u001b[1;32m---> <a href='vscode-notebook-cell:/c%3A/Users/zafer/Desktop/Proje/datacollection/preparedata.ipynb#X31sZmlsZQ%3D%3D?line=11'>12</a>\u001b[0m predictions \u001b[39m=\u001b[39m predict(\u001b[39m170\u001b[39;49m,\t\u001b[39m190\u001b[39;49m, \u001b[39m40\u001b[39;49m,\t\u001b[39m165\u001b[39;49m,\t\u001b[39m148\u001b[39;49m,\t\u001b[39m165\u001b[39;49m)\n\u001b[0;32m     <a href='vscode-notebook-cell:/c%3A/Users/zafer/Desktop/Proje/datacollection/preparedata.ipynb#X31sZmlsZQ%3D%3D?line=13'>14</a>\u001b[0m \u001b[39m# Tahminler üzerinde değerlendirme yapabilirsiniz\u001b[39;00m\n\u001b[0;32m     <a href='vscode-notebook-cell:/c%3A/Users/zafer/Desktop/Proje/datacollection/preparedata.ipynb#X31sZmlsZQ%3D%3D?line=14'>15</a>\u001b[0m \u001b[39m# Örneğin, tahminlerin sınıflarını (idle veya shot) alabilirsiniz\u001b[39;00m\n\u001b[0;32m     <a href='vscode-notebook-cell:/c%3A/Users/zafer/Desktop/Proje/datacollection/preparedata.ipynb#X31sZmlsZQ%3D%3D?line=15'>16</a>\u001b[0m predicted_classes \u001b[39m=\u001b[39m np\u001b[39m.\u001b[39margmax(predictions, axis\u001b[39m=\u001b[39m\u001b[39m1\u001b[39m)\n",
      "\u001b[1;32mc:\\Users\\zafer\\Desktop\\Proje\\datacollection\\preparedata.ipynb Cell 22\u001b[0m line \u001b[0;36m9\n\u001b[0;32m      <a href='vscode-notebook-cell:/c%3A/Users/zafer/Desktop/Proje/datacollection/preparedata.ipynb#X31sZmlsZQ%3D%3D?line=6'>7</a>\u001b[0m example \u001b[39m=\u001b[39m tf\u001b[39m.\u001b[39mtrain\u001b[39m.\u001b[39mExample()\n\u001b[0;32m      <a href='vscode-notebook-cell:/c%3A/Users/zafer/Desktop/Proje/datacollection/preparedata.ipynb#X31sZmlsZQ%3D%3D?line=7'>8</a>\u001b[0m \u001b[39m# example.features.feature[\"x\"].float_list.value.extend([x])\u001b[39;00m\n\u001b[1;32m----> <a href='vscode-notebook-cell:/c%3A/Users/zafer/Desktop/Proje/datacollection/preparedata.ipynb#X31sZmlsZQ%3D%3D?line=8'>9</a>\u001b[0m \u001b[39mreturn\u001b[39;00m imported\u001b[39m.\u001b[39;49msignatures[\u001b[39m\"\u001b[39;49m\u001b[39mpredict\u001b[39;49m\u001b[39m\"\u001b[39;49m](examples\u001b[39m=\u001b[39mtf\u001b[39m.\u001b[39mconstant([example\u001b[39m.\u001b[39mSerializeToString()]))\n",
      "File \u001b[1;32mc:\\Users\\zafer\\Desktop\\Proje\\venv\\Lib\\site-packages\\tensorflow\\python\\saved_model\\signature_serialization.py:302\u001b[0m, in \u001b[0;36m_SignatureMap.__getitem__\u001b[1;34m(self, key)\u001b[0m\n\u001b[0;32m    301\u001b[0m \u001b[39mdef\u001b[39;00m \u001b[39m__getitem__\u001b[39m(\u001b[39mself\u001b[39m, key):\n\u001b[1;32m--> 302\u001b[0m   \u001b[39mreturn\u001b[39;00m \u001b[39mself\u001b[39;49m\u001b[39m.\u001b[39;49m_signatures[key]\n",
      "\u001b[1;31mKeyError\u001b[0m: 'predict'"
     ]
    }
   ],
   "source": [
    "import numpy as np\n",
    "\n",
    "\n",
    "\n",
    "def predict(x,y,z,a,b,c):\n",
    "  model = tf.saved_model.load(\"my_model\")\n",
    "  example = tf.train.Example()\n",
    "  # example.features.feature[\"x\"].float_list.value.extend([x])\n",
    "  return imported.signatures[\"predict\"](examples=tf.constant([example.SerializeToString()]))\n",
    "\n",
    "# Modelin yeni verilere göre tahminlerini alın\n",
    "predictions = predict(170,\t190, 40,\t165,\t148,\t165)\n",
    "\n",
    "# Tahminler üzerinde değerlendirme yapabilirsiniz\n",
    "# Örneğin, tahminlerin sınıflarını (idle veya shot) alabilirsiniz\n",
    "predicted_classes = np.argmax(predictions, axis=1)\n",
    "\n",
    "# Tahmin edilen sınıfları ve olasılıkları gösterelim (örnek olarak)\n",
    "print(\"Tahmin Edilen Sınıflar:\", predicted_classes)\n",
    "print(\"Tahmin Edilen Olasılıklar:\", predictions)"
   ]
  },
  {
   "cell_type": "code",
   "execution_count": 13,
   "metadata": {},
   "outputs": [
    {
     "ename": "AttributeError",
     "evalue": "'_UserObject' object has no attribute 'predict'",
     "output_type": "error",
     "traceback": [
      "\u001b[1;31m---------------------------------------------------------------------------\u001b[0m",
      "\u001b[1;31mAttributeError\u001b[0m                            Traceback (most recent call last)",
      "\u001b[1;32mc:\\Users\\zafer\\Desktop\\Proje\\datacollection\\preparedata.ipynb Cell 20\u001b[0m line \u001b[0;36m7\n\u001b[0;32m      <a href='vscode-notebook-cell:/c%3A/Users/zafer/Desktop/Proje/datacollection/preparedata.ipynb#X25sZmlsZQ%3D%3D?line=3'>4</a>\u001b[0m new_data \u001b[39m=\u001b[39m np\u001b[39m.\u001b[39marray([[\u001b[39m171\u001b[39m,\u001b[39m135\u001b[39m,\u001b[39m270\u001b[39m,\u001b[39m341\u001b[39m,\u001b[39m130\u001b[39m,\u001b[39m200\u001b[39m]])  \u001b[39m# Örnek açı verileri\u001b[39;00m\n\u001b[0;32m      <a href='vscode-notebook-cell:/c%3A/Users/zafer/Desktop/Proje/datacollection/preparedata.ipynb#X25sZmlsZQ%3D%3D?line=5'>6</a>\u001b[0m \u001b[39m# Modelin yeni verilere göre tahminlerini alın\u001b[39;00m\n\u001b[1;32m----> <a href='vscode-notebook-cell:/c%3A/Users/zafer/Desktop/Proje/datacollection/preparedata.ipynb#X25sZmlsZQ%3D%3D?line=6'>7</a>\u001b[0m predictions \u001b[39m=\u001b[39m loaded_model\u001b[39m.\u001b[39;49mpredict(new_data)\n\u001b[0;32m      <a href='vscode-notebook-cell:/c%3A/Users/zafer/Desktop/Proje/datacollection/preparedata.ipynb#X25sZmlsZQ%3D%3D?line=8'>9</a>\u001b[0m \u001b[39m# Tahminler üzerinde değerlendirme yapabilirsiniz\u001b[39;00m\n\u001b[0;32m     <a href='vscode-notebook-cell:/c%3A/Users/zafer/Desktop/Proje/datacollection/preparedata.ipynb#X25sZmlsZQ%3D%3D?line=9'>10</a>\u001b[0m \u001b[39m# Örneğin, tahminlerin sınıflarını (idle veya shot) alabilirsiniz\u001b[39;00m\n\u001b[0;32m     <a href='vscode-notebook-cell:/c%3A/Users/zafer/Desktop/Proje/datacollection/preparedata.ipynb#X25sZmlsZQ%3D%3D?line=10'>11</a>\u001b[0m predicted_classes \u001b[39m=\u001b[39m np\u001b[39m.\u001b[39margmax(predictions, axis\u001b[39m=\u001b[39m\u001b[39m1\u001b[39m)\n",
      "\u001b[1;31mAttributeError\u001b[0m: '_UserObject' object has no attribute 'predict'"
     ]
    }
   ],
   "source": [
    "import numpy as np\n",
    "\n",
    "# Yeni verileriniz (örneğin, vücut açıları ölçüleri)\n",
    "new_data = np.array([[171,135,270,341,130,200]])  # Örnek açı verileri\n",
    "\n",
    "# Modelin yeni verilere göre tahminlerini alın\n",
    "predictions = loaded_model.predict(new_data)\n",
    "\n",
    "# Tahminler üzerinde değerlendirme yapabilirsiniz\n",
    "# Örneğin, tahminlerin sınıflarını (idle veya shot) alabilirsiniz\n",
    "predicted_classes = np.argmax(predictions, axis=1)\n",
    "\n",
    "# Tahmin edilen sınıfları ve olasılıkları gösterelim (örnek olarak)\n",
    "print(\"Tahmin Edilen Sınıflar:\", predicted_classes)\n",
    "print(\"Tahmin Edilen Olasılıklar:\", predictions)\n"
   ]
  }
 ],
 "metadata": {
  "kernelspec": {
   "display_name": "venv",
   "language": "python",
   "name": "python3"
  },
  "language_info": {
   "codemirror_mode": {
    "name": "ipython",
    "version": 3
   },
   "file_extension": ".py",
   "mimetype": "text/x-python",
   "name": "python",
   "nbconvert_exporter": "python",
   "pygments_lexer": "ipython3",
   "version": "3.11.0"
  }
 },
 "nbformat": 4,
 "nbformat_minor": 2
}
